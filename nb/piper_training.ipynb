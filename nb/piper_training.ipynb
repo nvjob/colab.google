{
  "cells": [
    {
      "cell_type": "markdown",
      "metadata": {
        "id": "view-in-github",
        "colab_type": "text"
      },
      "source": [
        "<a href=\"https://colab.research.google.com/github/nvjob/colab.google/blob/main/nb/piper_training.ipynb\" target=\"_parent\"><img src=\"https://colab.research.google.com/assets/colab-badge.svg\" alt=\"Open In Colab\"/></a>"
      ]
    },
    {
      "cell_type": "code",
      "execution_count": null,
      "metadata": {
        "cellView": "form",
        "id": "qyxSMuzjfQrz"
      },
      "outputs": [],
      "source": [
        "# Google Colab Anti-Disconnect\n",
        "\n",
        "import IPython\n",
        "js_code = '''\n",
        "function ClickConnect(){\n",
        "console.log(\"Working\");\n",
        "document.querySelector(\"colab-toolbar-button#connect\").click()\n",
        "}\n",
        "setInterval(ClickConnect,60000)\n",
        "'''\n",
        "display(IPython.display.Javascript(js_code))"
      ]
    },
    {
      "cell_type": "code",
      "source": [
        "# Google drive connect\n",
        "\n",
        "from google.colab import drive\n",
        "drive.mount('/content/drive')"
      ],
      "metadata": {
        "id": "YaGev1MBBs8P"
      },
      "execution_count": null,
      "outputs": []
    },
    {
      "cell_type": "code",
      "execution_count": null,
      "metadata": {
        "cellView": "form",
        "id": "ygxzp-xHTC7T"
      },
      "outputs": [],
      "source": [
        "# Check GPU type\n",
        "\n",
        "!nvidia-smi"
      ]
    },
    {
      "cell_type": "code",
      "execution_count": null,
      "metadata": {
        "cellView": "form",
        "id": "_XwmTVlcUgCh"
      },
      "outputs": [],
      "source": [
        "# Install software\n",
        "\n",
        "!git clone -q https://github.com/rhasspy/piper\n",
        "%cd /content/piper/src/python\n",
        "!wget -q \"https://raw.githubusercontent.com/coqui-ai/TTS/dev/TTS/bin/resample.py\"\n",
        "!pip install -q cython>=0.29.0 piper-phonemize==1.1.0 librosa>=0.9.2 numpy>=1.19.0 onnxruntime>=1.11.0 pytorch-lightning==1.7.0 torch==1.11.0\n",
        "!pip install -q torchtext==0.12.0 torchvision==0.12.0\n",
        "!pip install -q torchaudio==0.11.0 torchmetrics==0.11.4\n",
        "!bash build_monotonic_align.sh\n",
        "!apt-get install -q espeak-ng\n",
        "%cd /content"
      ]
    },
    {
      "cell_type": "code",
      "execution_count": null,
      "metadata": {
        "id": "config-cell"
      },
      "outputs": [],
      "source": [
        "# Configuration\n",
        "config = {\n",
        "    \"language\": \"ru\",\n",
        "    \"single_speaker\": True,\n",
        "    \"dataset\": \"/content/dataset\",\n",
        "    \"output\": \"/content/output\",\n",
        "    \"resume_from_checkpoint\": \"/content/irina_baba.ckpt\",\n",
        "    \"quality\": \"medium\",\n",
        "    \"max_epochs\": 5000,\n",
        "    \"batch_size\": 20,\n",
        "    \"checkpoint_epochs\": 100,\n",
        "    \"max_phoneme_ids\": 800,\n",
        "    \"resample\": False,\n",
        "    \"sample_rate\": \"22050\",\n",
        "    \"validation_split\": 0.0,\n",
        "    \"num_test_examples\": 0,\n",
        "    \"dataset_format\": \"ljspeech\",\n",
        "    \"precision\": 32\n",
        "}"
      ]
    },
    {
      "cell_type": "code",
      "execution_count": null,
      "metadata": {
        "cellView": "form",
        "id": "dOyx9Y6JYvRF"
      },
      "outputs": [],
      "source": [
        "# Preprocess dataset\n",
        "\n",
        "import os\n",
        "\n",
        "if not os.path.exists(config['output']):\n",
        "  os.makedirs(config['output'])\n",
        "\n",
        "force_sp = \" --single-speaker\" if config['single_speaker'] else \"\"\n",
        "\n",
        "%cd /content/piper/src/python\n",
        "\n",
        "if config['resample']:\n",
        "  !python resample.py --input_dir \"/content/dataset/wavs\" --output_dir \"/content/dataset/wavs_resampled\" --output_sr {config['sample_rate']} --file_ext \"wav\"\n",
        "  !mv /content/dataset/wavs_resampled/* /content/dataset/wavs\n",
        "\n",
        "!python -m piper_train.preprocess \\\n",
        "  --language {config['language']} \\\n",
        "  --input-dir {config['dataset']} \\\n",
        "  --output-dir {config['output']} \\\n",
        "  --dataset-format {config['dataset_format']} \\\n",
        "  --sample-rate {config['sample_rate']} \\\n",
        "  --max-workers 4 \\\n",
        "  {force_sp}\n"
      ]
    },
    {
      "cell_type": "code",
      "execution_count": null,
      "metadata": {
        "cellView": "form",
        "colab": {
          "background_save": true
        },
        "id": "X4zbSjXg2J3N"
      },
      "outputs": [],
      "source": [
        "# Train\n",
        "\n",
        "get_ipython().system(f'''\n",
        "python -m piper_train \\\n",
        "--dataset-dir {config['output']} \\\n",
        "--accelerator 'gpu' \\\n",
        "--devices 1 \\\n",
        "--batch-size {config['batch_size']} \\\n",
        "--validation-split {config['validation_split']} \\\n",
        "--num-test-examples {config['num_test_examples']} \\\n",
        "--quality \"{config['quality']}\" \\\n",
        "--checkpoint-epochs {config['checkpoint_epochs']} \\\n",
        "--max_epochs {config['max_epochs']} \\\n",
        "--precision {config['precision']} \\\n",
        "--max-phoneme-ids {config['max_phoneme_ids']} \\\n",
        "--resume_from_checkpoint \"{config['resume_from_checkpoint']}\"\n",
        "''')"
      ]
    },
    {
      "cell_type": "code",
      "execution_count": null,
      "metadata": {
        "id": "export-cell"
      },
      "outputs": [],
      "source": [
        "# Export model to ONNX\n",
        "\n",
        "import os\n",
        "import shutil\n",
        "\n",
        "# Find latest checkpoint\n",
        "checkpoint_dir = os.path.join(config['output'], \"lightning_logs\", \"version_0\", \"checkpoints\")\n",
        "checkpoints = [os.path.join(checkpoint_dir, f) for f in os.listdir(checkpoint_dir) if f.endswith(\".ckpt\")]\n",
        "latest_checkpoint = max(checkpoints, key=os.path.getctime)\n",
        "\n",
        "# Export path\n",
        "export_path = os.path.join(config['output'], \"model.onnx\")\n",
        "\n",
        "!python -m piper_train.export_onnx {latest_checkpoint} {export_path}\n",
        "shutil.copy(\n",
        "    os.path.join(config['output'], \"config.json\"),\n",
        "    f\"{export_path}.json\"\n",
        ")\n",
        "\n",
        "print(f\"Model exported to {export_path}\")"
      ]
    }
  ],
  "metadata": {
    "accelerator": "GPU",
    "colab": {
      "provenance": [],
      "include_colab_link": true
    },
    "gpuClass": "standard",
    "kernelspec": {
      "display_name": "Python 3",
      "name": "python3"
    },
    "language_info": {
      "name": "python"
    }
  },
  "nbformat": 4,
  "nbformat_minor": 0
}