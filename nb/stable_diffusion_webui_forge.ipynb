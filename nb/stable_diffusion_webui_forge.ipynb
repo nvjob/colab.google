{
  "cells": [
    {
      "cell_type": "markdown",
      "metadata": {
        "id": "view-in-github",
        "colab_type": "text"
      },
      "source": [
        "<a href=\"https://colab.research.google.com/github/nvjob/colab.google/blob/main/nb/stable_diffusion_webui_forge.ipynb\" target=\"_parent\"><img src=\"https://colab.research.google.com/assets/colab-badge.svg\" alt=\"Open In Colab\"/></a>"
      ]
    },
    {
      "cell_type": "code",
      "execution_count": 1,
      "metadata": {
        "cellView": "form",
        "id": "ygxzp-xHTC7T",
        "colab": {
          "base_uri": "https://localhost:8080/"
        },
        "outputId": "a80ded68-cee0-4824-f9fb-36e5c646862b"
      },
      "outputs": [
        {
          "output_type": "stream",
          "name": "stdout",
          "text": [
            "Mon Mar 24 11:38:16 2025       \n",
            "+-----------------------------------------------------------------------------------------+\n",
            "| NVIDIA-SMI 550.54.15              Driver Version: 550.54.15      CUDA Version: 12.4     |\n",
            "|-----------------------------------------+------------------------+----------------------+\n",
            "| GPU  Name                 Persistence-M | Bus-Id          Disp.A | Volatile Uncorr. ECC |\n",
            "| Fan  Temp   Perf          Pwr:Usage/Cap |           Memory-Usage | GPU-Util  Compute M. |\n",
            "|                                         |                        |               MIG M. |\n",
            "|=========================================+========================+======================|\n",
            "|   0  Tesla T4                       Off |   00000000:00:04.0 Off |                    0 |\n",
            "| N/A   45C    P8              9W /   70W |       0MiB /  15360MiB |      0%      Default |\n",
            "|                                         |                        |                  N/A |\n",
            "+-----------------------------------------+------------------------+----------------------+\n",
            "                                                                                         \n",
            "+-----------------------------------------------------------------------------------------+\n",
            "| Processes:                                                                              |\n",
            "|  GPU   GI   CI        PID   Type   Process name                              GPU Memory |\n",
            "|        ID   ID                                                               Usage      |\n",
            "|=========================================================================================|\n",
            "|  No running processes found                                                             |\n",
            "+-----------------------------------------------------------------------------------------+\n"
          ]
        }
      ],
      "source": [
        "# Check GPU type\n",
        "\n",
        "!nvidia-smi"
      ]
    },
    {
      "cell_type": "code",
      "source": [
        "from google.colab import drive\n",
        "drive.mount('/content/drive')"
      ],
      "metadata": {
        "id": "Q7s2v_-P8oFw"
      },
      "execution_count": null,
      "outputs": []
    },
    {
      "cell_type": "code",
      "execution_count": null,
      "metadata": {
        "cellView": "form",
        "id": "qyxSMuzjfQrz"
      },
      "outputs": [],
      "source": [
        "# Google Colab Anti-Disconnect\n",
        "\n",
        "import IPython\n",
        "js_code = '''\n",
        "function ClickConnect(){\n",
        "console.log(\"Working\");\n",
        "document.querySelector(\"colab-toolbar-button#connect\").click()\n",
        "}\n",
        "setInterval(ClickConnect,60000)\n",
        "'''\n",
        "display(IPython.display.Javascript(js_code))"
      ]
    },
    {
      "cell_type": "code",
      "execution_count": null,
      "metadata": {
        "cellView": "form",
        "id": "_XwmTVlcUgCh"
      },
      "outputs": [],
      "source": [
        "# Install software\n",
        "\n",
        "!pip install pygit2==1.12.2\n",
        "%cd /content\n",
        "!git clone https://github.com/lllyasviel/stable-diffusion-webui-forge\n"
      ]
    },
    {
      "cell_type": "code",
      "source": [
        "# Models downloaded\n",
        "\n",
        "import os\n",
        "os.makedirs(\"/content/stable-diffusion-webui-forge\", exist_ok=True)\n",
        "print(\"Downloading models...\")\n",
        "!curl -L https://huggingface.co/pupitmup/ext-models/resolve/main/models.7z -o models.7z || exit 1\n",
        "!7z x -y models.7z -o./ || exit 1\n",
        "!mv ./webui/* /content/stable-diffusion-webui-forge/\n",
        "!rm -rf ./webui\n",
        "!rm -f models.7z\n",
        "print(\"Models downloaded and extracted successfully.\")"
      ],
      "metadata": {
        "id": "dppsNuNsquG_"
      },
      "execution_count": null,
      "outputs": []
    },
    {
      "cell_type": "code",
      "source": [
        "# Input downloaded\n",
        "\n",
        "print(\"Downloading input...\")\n",
        "!curl -L https://huggingface.co/datasets/pupitmup/input/resolve/main/input10_3.7z -o input10_3.7z || exit 1\n",
        "!7z x -y input10_3.7z -o./input10_3 || exit 1\n",
        "!rm -f input10_3.7z\n",
        "print(\"Input data downloaded and extracted successfully.\")"
      ],
      "metadata": {
        "id": "lOM_2yaPq0yV"
      },
      "execution_count": null,
      "outputs": []
    },
    {
      "cell_type": "code",
      "source": [
        "# Start\n",
        "\n",
        "%cd /content/stable-diffusion-webui-forge\n",
        "!python launch.py --share"
      ],
      "metadata": {
        "id": "78rDM-l24JcE"
      },
      "execution_count": null,
      "outputs": []
    }
  ],
  "metadata": {
    "accelerator": "GPU",
    "colab": {
      "provenance": [],
      "include_colab_link": true
    },
    "gpuClass": "standard",
    "kernelspec": {
      "display_name": "Python 3",
      "name": "python3"
    },
    "language_info": {
      "name": "python"
    }
  },
  "nbformat": 4,
  "nbformat_minor": 0
}