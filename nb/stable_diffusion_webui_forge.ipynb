{
  "cells": [
    {
      "cell_type": "markdown",
      "metadata": {
        "id": "view-in-github",
        "colab_type": "text"
      },
      "source": [
        "<a href=\"https://colab.research.google.com/github/nvjob/colab.google/blob/main/nb/stable_diffusion_webui_forge.ipynb\" target=\"_parent\"><img src=\"https://colab.research.google.com/assets/colab-badge.svg\" alt=\"Open In Colab\"/></a>"
      ]
    },
    {
      "cell_type": "code",
      "execution_count": null,
      "metadata": {
        "cellView": "form",
        "id": "_XwmTVlcUgCh"
      },
      "outputs": [],
      "source": [
        "# Install software\n",
        "\n",
        "!pip install pygit2==1.12.2\n",
        "%cd /workspace\n",
        "!git clone https://github.com/lllyasviel/stable-diffusion-webui-forge\n"
      ]
    },
    {
      "cell_type": "code",
      "source": [
        "# Models downloaded\n",
        "\n",
        "import os\n",
        "\n",
        "print(\"Downloading models...\")\n",
        "\n",
        "# Создаем необходимые директории, если их нет\n",
        "directories = [\n",
        "    \"/workspace/stable-diffusion-webui-forge/models/Stable-diffusion\",\n",
        "    \"/workspace/stable-diffusion-webui-forge/models/VAE\",\n",
        "    \"/workspace/stable-diffusion-webui-forge/models/text_encoder\",\n",
        "    \"/workspace/stable-diffusion-webui-forge/models/Lora\",\n",
        "    \"/workspace/stable-diffusion-webui-forge/models/diffusers/models--Bingsu--adetailer\",\n",
        "    \"/workspace/stable-diffusion-webui-forge/extensions\"\n",
        "]\n",
        "\n",
        "for directory in directories:\n",
        "    os.makedirs(directory, exist_ok=True)\n",
        "    print(f\"Directory created (if not existed): {directory}\")\n",
        "\n",
        "# Скачиваем модели напрямую в соответствующие директории\n",
        "%cd /workspace/stable-diffusion-webui-forge/models/Stable-diffusion\n",
        "!curl -L https://huggingface.co/pupitmup/flux-models/resolve/main/copaxTimeless_xplus3.safetensors -o copaxTimeless_xplus3.safetensors || exit 1\n",
        "\n",
        "%cd /workspace/stable-diffusion-webui-forge/models/VAE\n",
        "!curl -L https://huggingface.co/pupitmup/flux-models/resolve/main/Flux_ae.safetensors -o Flux_ae.safetensors || exit 1\n",
        "\n",
        "%cd /workspace/stable-diffusion-webui-forge/models/text_encoder\n",
        "!curl -L https://huggingface.co/pupitmup/flux-models/resolve/main/Flux_clip_l.safetensors -o Flux_clip_l.safetensors || exit 1\n",
        "!curl -L https://huggingface.co/pupitmup/flux-models/resolve/main/Flux_t5xxl_fp16.safetensors -o Flux_t5xxl_fp16.safetensors || exit 1\n",
        "\n",
        "%cd /workspace/stable-diffusion-webui-forge/models/Lora\n",
        "!curl -L https://huggingface.co/mastuban1/taySwiftFlux/resolve/main/taySwiftFlux.safetensors -o taySwiftFlux.safetensors || exit 1\n",
        "\n",
        "%cd /workspace/stable-diffusion-webui-forge/models/diffusers/models--Bingsu--adetailer\n",
        "!curl -L https://huggingface.co/pupitmup/flux-models/resolve/main/face_yolov8n.pt -o face_yolov8n.pt || exit 1\n",
        "!curl -L https://huggingface.co/pupitmup/flux-models/resolve/main/face_yolov8s.pt -o face_yolov8s.pt || exit 1\n",
        "!curl -L https://huggingface.co/pupitmup/flux-models/resolve/main/hand_yolov8n.pt -o hand_yolov8n.pt || exit 1\n",
        "!curl -L https://huggingface.co/pupitmup/flux-models/resolve/main/yolov8x-worldv2.pt -o yolov8x-worldv2.pt || exit 1\n",
        "\n",
        "# Скачиваем и распаковываем архив extensions.7z\n",
        "%cd /workspace/stable-diffusion-webui-forge/extensions\n",
        "!curl -L https://huggingface.co/pupitmup/flux-models/resolve/main/extensions.7z -o extensions.7z || exit 1\n",
        "!7z x -y extensions.7z || exit 1\n",
        "!rm -f extensions.7z\n",
        "\n",
        "print(\"Models downloaded and extracted successfully.\")"
      ],
      "metadata": {
        "id": "dppsNuNsquG_"
      },
      "execution_count": null,
      "outputs": []
    },
    {
      "cell_type": "code",
      "source": [
        "# Start\n",
        "\n",
        "%cd /workspace/stable-diffusion-webui-forge\n",
        "!python launch.py --share --api --xformers"
      ],
      "metadata": {
        "id": "78rDM-l24JcE"
      },
      "execution_count": null,
      "outputs": []
    }
  ],
  "metadata": {
    "accelerator": "GPU",
    "colab": {
      "provenance": [],
      "include_colab_link": true
    },
    "gpuClass": "standard",
    "kernelspec": {
      "display_name": "Python 3",
      "name": "python3"
    },
    "language_info": {
      "name": "python"
    }
  },
  "nbformat": 4,
  "nbformat_minor": 0
}